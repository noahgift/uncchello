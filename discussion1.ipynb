{
  "nbformat": 4,
  "nbformat_minor": 0,
  "metadata": {
    "colab": {
      "name": "discussion1.ipynb",
      "provenance": [],
      "collapsed_sections": [],
      "authorship_tag": "ABX9TyPRgDeSSOo/G7AReg4FGo2j",
      "include_colab_link": true
    },
    "kernelspec": {
      "name": "python3",
      "display_name": "Python 3"
    }
  },
  "cells": [
    {
      "cell_type": "markdown",
      "metadata": {
        "id": "view-in-github",
        "colab_type": "text"
      },
      "source": [
        "<a href=\"https://colab.research.google.com/github/noahgift/uncchello/blob/master/discussion1.ipynb\" target=\"_parent\"><img src=\"https://colab.research.google.com/assets/colab-badge.svg\" alt=\"Open In Colab\"/></a>"
      ]
    },
    {
      "cell_type": "code",
      "metadata": {
        "id": "whgX5iLEQ1TB",
        "colab_type": "code",
        "colab": {}
      },
      "source": [
        "def hello(): return 1"
      ],
      "execution_count": 0,
      "outputs": []
    },
    {
      "cell_type": "markdown",
      "metadata": {
        "id": "h9CeDY8XXVGU",
        "colab_type": "text"
      },
      "source": [
        "![alt text](https://user-images.githubusercontent.com/58792/73123546-301ef680-3f5f-11ea-904f-0ebb3304949e.png)"
      ]
    }
  ]
}