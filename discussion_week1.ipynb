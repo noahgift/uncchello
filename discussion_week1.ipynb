{
  "nbformat": 4,
  "nbformat_minor": 0,
  "metadata": {
    "colab": {
      "name": "discussion-week1.ipynb",
      "provenance": [],
      "authorship_tag": "ABX9TyNVnK02cFWG/s5TiLQTY+hI",
      "include_colab_link": true
    },
    "kernelspec": {
      "name": "python3",
      "display_name": "Python 3"
    }
  },
  "cells": [
    {
      "cell_type": "markdown",
      "metadata": {
        "id": "view-in-github",
        "colab_type": "text"
      },
      "source": [
        "<a href=\"https://colab.research.google.com/github/noahgift/uncchello/blob/master/discussion_week1.ipynb\" target=\"_parent\"><img src=\"https://colab.research.google.com/assets/colab-badge.svg\" alt=\"Open In Colab\"/></a>"
      ]
    },
    {
      "cell_type": "markdown",
      "metadata": {
        "id": "Llw1e_4hJyfm",
        "colab_type": "text"
      },
      "source": [
        "## Ingest"
      ]
    },
    {
      "cell_type": "markdown",
      "metadata": {
        "id": "J84qEFG9J0-x",
        "colab_type": "text"
      },
      "source": [
        "![alt text](https://user-images.githubusercontent.com/58792/73123595-a7548a80-3f5f-11ea-8d7e-11bd5d838b73.png)"
      ]
    },
    {
      "cell_type": "markdown",
      "metadata": {
        "id": "8zlv5Mx7J1BA",
        "colab_type": "text"
      },
      "source": [
        "## EDA"
      ]
    },
    {
      "cell_type": "markdown",
      "metadata": {
        "id": "_Cbf5UzKJ2qv",
        "colab_type": "text"
      },
      "source": [
        ""
      ]
    },
    {
      "cell_type": "markdown",
      "metadata": {
        "id": "NFQ6cJlGJ2tA",
        "colab_type": "text"
      },
      "source": [
        "## Modeling\n"
      ]
    }
  ]
}